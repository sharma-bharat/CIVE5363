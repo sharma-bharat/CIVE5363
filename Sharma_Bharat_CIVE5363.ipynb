{
  "nbformat": 4,
  "nbformat_minor": 0,
  "metadata": {
    "colab": {
      "name": "Sharma_Bharat_CIVE5363.ipynb",
      "provenance": [],
      "authorship_tag": "ABX9TyN7FEQ6CT7AJW4JVBG11NLl",
      "include_colab_link": true
    },
    "kernelspec": {
      "name": "python3",
      "display_name": "Python 3"
    }
  },
  "cells": [
    {
      "cell_type": "markdown",
      "metadata": {
        "id": "view-in-github",
        "colab_type": "text"
      },
      "source": [
        "<a href=\"https://colab.research.google.com/github/sharma-bharat/CIVE5363/blob/main/Sharma_Bharat_CIVE5363.ipynb\" target=\"_parent\"><img src=\"https://colab.research.google.com/assets/colab-badge.svg\" alt=\"Open In Colab\"/></a>"
      ]
    },
    {
      "cell_type": "code",
      "metadata": {
        "id": "U0JdSGxgYqzl"
      },
      "source": [
        "# by Bharat Sharma\n",
        "# Reading the climate model outputs\n",
        "# For the class CIVE5363\n"
      ],
      "execution_count": 5,
      "outputs": []
    },
    {
      "cell_type": "code",
      "metadata": {
        "id": "il3ApjdUYsYs"
      },
      "source": [
        ""
      ],
      "execution_count": 5,
      "outputs": []
    }
  ]
}